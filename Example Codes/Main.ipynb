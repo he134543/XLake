{
 "cells": [
  {
   "cell_type": "markdown",
   "id": "circular-checkout",
   "metadata": {},
   "source": [
    "# Import functions"
   ]
  },
  {
   "cell_type": "code",
   "execution_count": 1,
   "id": "threatened-january",
   "metadata": {},
   "outputs": [],
   "source": [
    "from Loading import Net_Loading # Calculate the net loading from the tributaries\n",
    "from Simulate import Predict_WQ # Simulation function"
   ]
  },
  {
   "cell_type": "markdown",
   "id": "pediatric-comparison",
   "metadata": {},
   "source": [
    "## Input the filepath of the necessary data"
   ]
  },
  {
   "cell_type": "code",
   "execution_count": 2,
   "id": "static-remark",
   "metadata": {},
   "outputs": [],
   "source": [
    "# Root name of the inlfows and outflows\n",
    "inflows_path = 'Inflows'\n",
    "outflows_path = 'outflows'\n",
    "\n",
    "# Filepath of the T, L, V\n",
    "Tempath = 'TemLight/WaterTemperature.csv'\n",
    "Lightpath = 'TemLight/Light.csv'\n",
    "V_path = 'Storage/V_Erie.csv'\n",
    "\n",
    "# File path of the parameters file\n",
    "Parapath = 'Parameters.csv'\n",
    "\n",
    "\n",
    "# The simulation steps -1. For example, we have 154 days, however, we need tp input 153\n",
    "t_span = (0,153)\n",
    "t_eval = [i for i in range(153)]\n",
    "initial_values = [0.2,0.10,0.01]# N, P, chl-a\n",
    "\n",
    "# Solving technique\n",
    "method = 'RK45'"
   ]
  },
  {
   "cell_type": "code",
   "execution_count": 3,
   "id": "instant-nursery",
   "metadata": {},
   "outputs": [],
   "source": [
    "# Calculate Net Loading of TKN, TP, Chla\n",
    "W_tkn, W_tp, W_chla = Net_Loading(inflows_path, outflows_path)\n",
    "\n",
    "# Aquire modelling results of N,P,chl\n",
    "N,P,chl = Predict_WQ(t_span, initial_values, method, t_eval, (W_tp, W_tkn, W_chla), Tempath, Lightpath, V_path, Parapath)"
   ]
  },
  {
   "cell_type": "code",
   "execution_count": 4,
   "id": "statutory-ecology",
   "metadata": {},
   "outputs": [],
   "source": [
    "import numpy as np\n",
    "np.savetxt('N.csv', N, delimiter = ',')"
   ]
  },
  {
   "cell_type": "markdown",
   "id": "industrial-regular",
   "metadata": {},
   "source": [
    "The simulation results has one day less. 154 rows of data were supported but 153 rows of data came out. The data of the last time step was filled by the nearst point."
   ]
  },
  {
   "cell_type": "code",
   "execution_count": null,
   "id": "steady-newman",
   "metadata": {},
   "outputs": [],
   "source": []
  },
  {
   "cell_type": "code",
   "execution_count": null,
   "id": "adopted-worcester",
   "metadata": {},
   "outputs": [],
   "source": []
  }
 ],
 "metadata": {
  "kernelspec": {
   "display_name": "Python 3",
   "language": "python",
   "name": "python3"
  },
  "language_info": {
   "codemirror_mode": {
    "name": "ipython",
    "version": 3
   },
   "file_extension": ".py",
   "mimetype": "text/x-python",
   "name": "python",
   "nbconvert_exporter": "python",
   "pygments_lexer": "ipython3",
   "version": "3.8.3"
  },
  "latex_envs": {
   "LaTeX_envs_menu_present": true,
   "autoclose": false,
   "autocomplete": true,
   "bibliofile": "biblio.bib",
   "cite_by": "apalike",
   "current_citInitial": 1,
   "eqLabelWithNumbers": true,
   "eqNumInitial": 1,
   "hotkeys": {
    "equation": "Ctrl-E",
    "itemize": "Ctrl-I"
   },
   "labels_anchors": false,
   "latex_user_defs": false,
   "report_style_numbering": false,
   "user_envs_cfg": false
  },
  "toc": {
   "base_numbering": 1,
   "nav_menu": {},
   "number_sections": true,
   "sideBar": true,
   "skip_h1_title": false,
   "title_cell": "Table of Contents",
   "title_sidebar": "Contents",
   "toc_cell": false,
   "toc_position": {},
   "toc_section_display": true,
   "toc_window_display": false
  },
  "varInspector": {
   "cols": {
    "lenName": 16,
    "lenType": 16,
    "lenVar": 40
   },
   "kernels_config": {
    "python": {
     "delete_cmd_postfix": "",
     "delete_cmd_prefix": "del ",
     "library": "var_list.py",
     "varRefreshCmd": "print(var_dic_list())"
    },
    "r": {
     "delete_cmd_postfix": ") ",
     "delete_cmd_prefix": "rm(",
     "library": "var_list.r",
     "varRefreshCmd": "cat(var_dic_list()) "
    }
   },
   "types_to_exclude": [
    "module",
    "function",
    "builtin_function_or_method",
    "instance",
    "_Feature"
   ],
   "window_display": false
  }
 },
 "nbformat": 4,
 "nbformat_minor": 5
}
